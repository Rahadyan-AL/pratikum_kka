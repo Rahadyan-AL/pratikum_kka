{
 "cells": [
  {
   "cell_type": "markdown",
   "id": "3954db59",
   "metadata": {},
   "source": [
    "code casting data types"
   ]
  },
  {
   "cell_type": "code",
   "execution_count": 3,
   "id": "415b5adf",
   "metadata": {},
   "outputs": [
    {
     "name": "stdout",
     "output_type": "stream",
     "text": [
      "Before: 456 , the data type is <class 'str'>\n",
      "After: 456 , the data type is <class 'int'>\n"
     ]
    },
    {
     "data": {
      "text/plain": [
       "int"
      ]
     },
     "execution_count": 3,
     "metadata": {},
     "output_type": "execute_result"
    }
   ],
   "source": [
    "# cast from str to int\n",
    "str_number = \"456\"\n",
    "str_number_to_int = int(str_number)\n",
    "print(\"Before:\", str_number, \", the data type is\", type(str_number))\n",
    "print(\"After:\", str_number_to_int, \", the data type is\", type(str_number_to_int))\n",
    "type(str_number_to_int)"
   ]
  },
  {
   "cell_type": "code",
   "execution_count": 4,
   "id": "ff906787",
   "metadata": {},
   "outputs": [
    {
     "name": "stdout",
     "output_type": "stream",
     "text": [
      "Before: 123 , the data type is <class 'int'>\n",
      "After: 123 , the data type is <class 'str'>\n"
     ]
    },
    {
     "data": {
      "text/plain": [
       "str"
      ]
     },
     "execution_count": 4,
     "metadata": {},
     "output_type": "execute_result"
    }
   ],
   "source": [
    "#cast from int to str\n",
    "int_number = 123\n",
    "int_number_to_str = str(int_number)\n",
    "print(\"Before:\", int_number, \", the data type is\", type(int_number))\n",
    "print(\"After:\", int_number_to_str, \", the data type is\", type(int_number_to_str))\n",
    "type(int_number_to_str)"
   ]
  },
  {
   "cell_type": "code",
   "execution_count": 6,
   "id": "003641d5",
   "metadata": {},
   "outputs": [
    {
     "name": "stdout",
     "output_type": "stream",
     "text": [
      "True <class 'bool'>\n",
      "False <class 'bool'>\n"
     ]
    }
   ],
   "source": [
    "#cast from int to bool\n",
    "num_int = 1\n",
    "num_bool = bool(num_int)\n",
    "print(num_bool, type(num_bool))\n",
    "\n",
    "num_int = 0\n",
    "num_bool = bool(num_int)\n",
    "print(num_bool, type(num_bool))\n"
   ]
  },
  {
   "cell_type": "markdown",
   "id": "d749c835",
   "metadata": {},
   "source": [
    "code comparison operator"
   ]
  },
  {
   "cell_type": "code",
   "execution_count": 1,
   "id": "e0a33932",
   "metadata": {},
   "outputs": [
    {
     "data": {
      "text/plain": [
       "True"
      ]
     },
     "execution_count": 1,
     "metadata": {},
     "output_type": "execute_result"
    }
   ],
   "source": [
    "#equal to\n",
    "8 == 8\n",
    "#not equal to\n",
    "8 != 9 \n",
    "#greater than\n",
    "8 > 7\n",
    "#less than\n",
    "8 < 9\n",
    "#greater than or equal to\n",
    "8 >= 8\n",
    "#less than or equal to\n",
    "8 <= 9"
   ]
  },
  {
   "cell_type": "markdown",
   "id": "8fb2f091",
   "metadata": {},
   "source": [
    "code logical operators"
   ]
  },
  {
   "cell_type": "code",
   "execution_count": 2,
   "id": "d771e374",
   "metadata": {},
   "outputs": [
    {
     "name": "stdout",
     "output_type": "stream",
     "text": [
      "False\n",
      "True\n",
      "True\n"
     ]
    },
    {
     "data": {
      "text/plain": [
       "False"
      ]
     },
     "execution_count": 2,
     "metadata": {},
     "output_type": "execute_result"
    }
   ],
   "source": [
    "a = True\n",
    "b = False\n",
    "print(a and b) \n",
    "print(a or b)\n",
    "print(not b)\n",
    "\n",
    "#logic\n",
    "5>6 and 6<7"
   ]
  },
  {
   "cell_type": "markdown",
   "id": "8e27d9e9",
   "metadata": {},
   "source": [
    "code arithmetic operators"
   ]
  },
  {
   "cell_type": "code",
   "execution_count": 2,
   "id": "bfd953be",
   "metadata": {},
   "outputs": [
    {
     "name": "stdout",
     "output_type": "stream",
     "text": [
      "The sum of e with f is: 10\n",
      "\n",
      "The reduction of e with f is: 6\n",
      "\n",
      "The multiplication of e with f is: 16\n",
      "\n",
      "The quotient of e with f is: 4.0\n",
      "\n",
      "The remainder of e with f is: 0\n",
      "\n",
      "The power of e with f is: 64\n",
      "\n"
     ]
    }
   ],
   "source": [
    "e = 8\n",
    "f = 2\n",
    "\n",
    "#summation\n",
    "sum = e + f\n",
    "print(f\"The sum of e with f is: {sum}\\n\")\n",
    "\n",
    "#reduction\n",
    "reduction = e - f\n",
    "print(f\"The reduction of e with f is: {reduction}\\n\")\n",
    "\n",
    "#multiplication\n",
    "multi = e * f\n",
    "print(f\"The multiplication of e with f is: {multi}\\n\")\n",
    "\n",
    "#division\n",
    "div = e / f\n",
    "print(f\"The quotient of e with f is: {div}\\n\")\n",
    "\n",
    "#modulo\n",
    "mod = e % f\n",
    "print(f\"The remainder of e with f is: {mod}\\n\")\n",
    "\n",
    "#power\n",
    "power = e ** f\n",
    "print(f\"The power of e with f is: {power}\\n\")"
   ]
  },
  {
   "cell_type": "markdown",
   "id": "dfd409a1",
   "metadata": {},
   "source": [
    "code input output"
   ]
  },
  {
   "cell_type": "code",
   "execution_count": 3,
   "id": "a8b24087",
   "metadata": {},
   "outputs": [
    {
     "name": "stdout",
     "output_type": "stream",
     "text": [
      "Name:  al\n",
      "Age:  12\n"
     ]
    }
   ],
   "source": [
    "#Input\n",
    "name = str(input(\"What is your name : \"))\n",
    "age = int(input(\"What's your age : \"))\n",
    "\n",
    "print(\"Name: \", name)\n",
    "print(\"Age: \", age)"
   ]
  },
  {
   "cell_type": "code",
   "execution_count": 4,
   "id": "680dd025",
   "metadata": {},
   "outputs": [
    {
     "name": "stdout",
     "output_type": "stream",
     "text": [
      "Hi all! I am al age 12 years old\n",
      "Hi all! I am al age 12 years old\n",
      "Hi all! I am al age 12 years old\n",
      "==============================\n",
      "Temperature Calculator Program\n",
      "==============================\n"
     ]
    }
   ],
   "source": [
    "#Output\n",
    "\n",
    "# normal print\n",
    "print('Hi all! I am', name, 'age', age, 'years old')\n",
    "\n",
    "# format print (f-string)\n",
    "print(f'Hi all! I am {name} age {age} years old')\n",
    "\n",
    "# format print (old-style %)\n",
    "print('Hi all! I am %s age %d years old' % (name, age))\n",
    "\n",
    "# format output tambahan\n",
    "print(30 * \"=\")\n",
    "print(\"Temperature Calculator Program\")\n",
    "print(30 * \"=\")"
   ]
  },
  {
   "cell_type": "markdown",
   "id": "c65a8183",
   "metadata": {},
   "source": [
    "code conditionals and excption handling"
   ]
  },
  {
   "cell_type": "code",
   "execution_count": 7,
   "id": "ae613978",
   "metadata": {},
   "outputs": [
    {
     "name": "stdout",
     "output_type": "stream",
     "text": [
      "You've got a stable GPA tho\n"
     ]
    }
   ],
   "source": [
    "#If - Else\n",
    "try:\n",
    "    your_GPA = float(input(\"Enter your GPA: \"))\n",
    "\n",
    "    if 4.0 >= your_GPA >= 0.0:\n",
    "        if 4.0 >= your_GPA >= 3.80:\n",
    "            print(f\"Damn you've got a magna cumlaude with your {your_GPA} GPA\")\n",
    "        elif 3.50 <= your_GPA < 3.80:\n",
    "            print(f\"Cool!! You've got a cumlaude with your {your_GPA} GPA\")\n",
    "        elif 3.00 <= your_GPA < 3.50:\n",
    "            print(f\"You've got a stable GPA tho\")\n",
    "        elif your_GPA < 3.0:\n",
    "            print(f\"You need a stable GPA\")\n",
    "    else:\n",
    "        print(f\"Sorry, your GPA {your_GPA} is out of range and invalid\")\n",
    "\n",
    "except Exception:\n",
    "    print(\"Please enter a valid GPA\")"
   ]
  },
  {
   "cell_type": "code",
   "execution_count": 8,
   "id": "50f29b97",
   "metadata": {},
   "outputs": [
    {
     "name": "stdout",
     "output_type": "stream",
     "text": [
      "Your code means:\n",
      "Unknown status code\n"
     ]
    }
   ],
   "source": [
    "#using match case\n",
    "try:\n",
    "    status_code = int(input(\"Enter your status code: \"))\n",
    "\n",
    "    print(\"Your code means:\")\n",
    "    match status_code:\n",
    "        case 200:\n",
    "            print(\"Success!\")\n",
    "        case 400:\n",
    "            print(\"Bad Request\")\n",
    "        case 401:\n",
    "            print(\"Unauthorized\")\n",
    "        case 402:\n",
    "            print(\"Payment Required\")\n",
    "        case 403:\n",
    "            print(\"Forbidden\")\n",
    "        case 404:\n",
    "            print(\"Not Found\")\n",
    "        case 500:\n",
    "            print(\"Internal Server Error\")\n",
    "        case _:\n",
    "            print(\"Unknown status code\")\n",
    "\n",
    "except Exception:\n",
    "    print(\"Please enter a valid status code\")"
   ]
  },
  {
   "cell_type": "code",
   "execution_count": 9,
   "id": "305074d2",
   "metadata": {},
   "outputs": [
    {
     "name": "stdout",
     "output_type": "stream",
     "text": [
      "Ternary result: Odd Numbers\n"
     ]
    }
   ],
   "source": [
    "#Ternary\n",
    "a = 3\n",
    "b = \"Even Numbers\" if a % 2 == 0 else \"Odd Numbers\"\n",
    "print(\"Ternary result:\", b)"
   ]
  },
  {
   "cell_type": "code",
   "execution_count": 5,
   "id": "2fe0dad7",
   "metadata": {},
   "outputs": [
    {
     "name": "stdout",
     "output_type": "stream",
     "text": [
      "0\n",
      "1\n",
      "2\n",
      "3\n",
      "4\n",
      "Data science is easy!\n",
      "Data science is easy!\n",
      "Data science is easy!\n",
      "Data science is easy!\n",
      "Data science is easy!\n",
      "==================================================\n",
      "Data science is easy!\n",
      "Data science is easy!\n"
     ]
    }
   ],
   "source": [
    "#using while loop\n",
    "for i in range(5):\n",
    "    print(i)\n",
    "    \n",
    "#for loop with range\n",
    "for i in range(5):\n",
    "    print(\"Data science is easy!\")\n",
    "\n",
    "print(50 * \"=\")\n",
    "\n",
    "for i in range(1, 5, 2):\n",
    "    print(\"Data science is easy!\")\n"
   ]
  },
  {
   "cell_type": "code",
   "execution_count": 6,
   "id": "5a5e8b0b",
   "metadata": {},
   "outputs": [
    {
     "name": "stdout",
     "output_type": "stream",
     "text": [
      "I\n",
      " \n",
      "w\n",
      "a\n",
      "n\n",
      "t\n",
      " \n",
      "t\n",
      "o\n",
      " \n",
      "m\n",
      "a\n",
      "s\n",
      "t\n",
      "e\n",
      "r\n",
      " \n",
      "d\n",
      "a\n",
      "t\n",
      "a\n",
      " \n",
      "s\n",
      "c\n",
      "i\n",
      "e\n",
      "n\n",
      "c\n",
      "e\n"
     ]
    }
   ],
   "source": [
    "word = \"I want to master data science\"\n",
    "\n",
    "for letter in word:\n",
    "    print(letter)"
   ]
  },
  {
   "cell_type": "code",
   "execution_count": 10,
   "id": "b5b46e83",
   "metadata": {},
   "outputs": [
    {
     "name": "stdout",
     "output_type": "stream",
     "text": [
      "Index 0. I\n",
      "Index 1.  \n",
      "Index 2. w\n",
      "Index 3. a\n",
      "Index 4. n\n",
      "Index 5. t\n",
      "Index 6.  \n",
      "Index 7. t\n",
      "Index 8. o\n",
      "Index 9.  \n",
      "Index 10. m\n",
      "Index 11. a\n",
      "Index 12. s\n",
      "Index 13. t\n",
      "Index 14. e\n",
      "Index 15. r\n",
      "Index 16.  \n",
      "Index 17. d\n",
      "Index 18. a\n",
      "Index 19. t\n",
      "Index 20. a\n",
      "Index 21.  \n",
      "Index 22. s\n",
      "Index 23. c\n",
      "Index 24. i\n",
      "Index 25. e\n",
      "Index 26. n\n",
      "Index 27. c\n",
      "Index 28. e\n"
     ]
    }
   ],
   "source": [
    "#you can use it with enumerate function\n",
    "for m, n in enumerate(word):\n",
    "    print(f\"Index {m}. {n}\")"
   ]
  },
  {
   "cell_type": "code",
   "execution_count": 11,
   "id": "1d2ef43c",
   "metadata": {},
   "outputs": [
    {
     "name": "stdout",
     "output_type": "stream",
     "text": [
      "I want big data's\n",
      "I want big data's\n",
      "I want big data's\n",
      "I want big data's\n"
     ]
    }
   ],
   "source": [
    "#it can go backward\n",
    "for i in range(5,1,-1):\n",
    "    print(\"I want big data's\")"
   ]
  },
  {
   "cell_type": "code",
   "execution_count": 12,
   "id": "589026f0",
   "metadata": {},
   "outputs": [
    {
     "name": "stdout",
     "output_type": "stream",
     "text": [
      "0\n",
      "1\n",
      "3\n"
     ]
    }
   ],
   "source": [
    "#Keyword control\n",
    "for i in range(5):\n",
    "    if i == 2:\n",
    "        continue   # skip theis loop when i is equal to 2\n",
    "    if i == 4:\n",
    "        break      # stops the loop when i is equal to 4\n",
    "    print(i)"
   ]
  },
  {
   "cell_type": "code",
   "execution_count": 13,
   "id": "968988b5",
   "metadata": {},
   "outputs": [
    {
     "name": "stdout",
     "output_type": "stream",
     "text": [
      "Keep the spirits up interns!\n",
      "Keep the spirits up interns!\n",
      "Keep the spirits up interns!\n",
      "Keep the spirits up interns!\n"
     ]
    }
   ],
   "source": [
    "#Using while loop\n",
    "count = 0\n",
    "while count < 4:\n",
    "    print(\"Keep the spirits up interns!\")\n",
    "    count += 1\n"
   ]
  }
 ],
 "metadata": {
  "kernelspec": {
   "display_name": "Python 3",
   "language": "python",
   "name": "python3"
  },
  "language_info": {
   "codemirror_mode": {
    "name": "ipython",
    "version": 3
   },
   "file_extension": ".py",
   "mimetype": "text/x-python",
   "name": "python",
   "nbconvert_exporter": "python",
   "pygments_lexer": "ipython3",
   "version": "3.12.5"
  }
 },
 "nbformat": 4,
 "nbformat_minor": 5
}
