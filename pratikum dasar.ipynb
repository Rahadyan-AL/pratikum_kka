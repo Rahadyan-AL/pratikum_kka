{
 "cells": [
  {
   "cell_type": "code",
   "execution_count": 1,
   "id": "798787a6",
   "metadata": {},
   "outputs": [
    {
     "name": "stdout",
     "output_type": "stream",
     "text": [
      "<class 'str'>\n",
      "<class 'int'>\n",
      "<class 'float'>\n"
     ]
    }
   ],
   "source": [
    "nama = 'budi'\n",
    "umur = 20\n",
    "tinggi = 170.5\n",
    "\n",
    "print(type(nama))\n",
    "print(type(umur))\n",
    "print(type(tinggi))"
   ]
  },
  {
   "cell_type": "code",
   "execution_count": 2,
   "id": "59ebe578",
   "metadata": {},
   "outputs": [
    {
     "name": "stdout",
     "output_type": "stream",
     "text": [
      "beras\n",
      "minyak\n",
      "telur\n",
      "gula\n",
      "kopi\n"
     ]
    }
   ],
   "source": [
    "list_belanja = ['beras','minyak','telur']\n",
    "list_belanja.append('gula')\n",
    "list_belanja.append('kopi')\n",
    "\n",
    "for item in list_belanja:\n",
    "    print(item)"
   ]
  },
  {
   "cell_type": "code",
   "execution_count": 3,
   "id": "3b1bee95",
   "metadata": {},
   "outputs": [
    {
     "name": "stdout",
     "output_type": "stream",
     "text": [
      "Total harga belanjaan adalah: 88000\n"
     ]
    }
   ],
   "source": [
    "harga_belanjaan = {'beras': 12000, 'minyak': 17000, 'telur': 24000, 'gula': 15000, 'kopi': 20000}\n",
    "hitung_total = [harga_belanjaan[item] for item in list_belanja]\n",
    "total_harga = sum(hitung_total)\n",
    "print(\"Total harga belanjaan adalah:\", total_harga)"
   ]
  },
  {
   "cell_type": "code",
   "execution_count": 4,
   "id": "93a479b4",
   "metadata": {},
   "outputs": [
    {
     "data": {
      "text/plain": [
       "(50, 30)"
      ]
     },
     "execution_count": 4,
     "metadata": {},
     "output_type": "execute_result"
    }
   ],
   "source": [
    "def hitung_persegiPanjang(panjang, lebar):\n",
    "    luas = panjang * lebar\n",
    "    keliling = 2 * (panjang + lebar)\n",
    "    return luas, keliling\n",
    "hitung_persegiPanjang(10, 5)"
   ]
  },
  {
   "cell_type": "code",
   "execution_count": 1,
   "id": "b6104ee8",
   "metadata": {},
   "outputs": [
    {
     "name": "stdout",
     "output_type": "stream",
     "text": [
      "Input tidak valid\n"
     ]
    }
   ],
   "source": [
    "usia = input(\"Masukkan usia Anda: \")\n",
    "if int(usia) >=0 and int(usia) <=13:\n",
    "    print(\"Anda adalah anak-anak\")\n",
    "elif int(usia) >13 and int(usia) <=24:\n",
    "    print(\"Anda adalah remaja\")\n",
    "elif int(usia) >25 and int(usia) <=49:\n",
    "    print(\"Anda adalah dewasa\")\n",
    "elif int(usia) >50:\n",
    "    print(\"Anda adalah lansia\")\n",
    "else:\n",
    "    print(\"Input tidak valid\")\n"
   ]
  },
  {
   "cell_type": "code",
   "execution_count": null,
   "id": "44297bb0",
   "metadata": {},
   "outputs": [],
   "source": []
  }
 ],
 "metadata": {
  "kernelspec": {
   "display_name": "Python 3",
   "language": "python",
   "name": "python3"
  },
  "language_info": {
   "codemirror_mode": {
    "name": "ipython",
    "version": 3
   },
   "file_extension": ".py",
   "mimetype": "text/x-python",
   "name": "python",
   "nbconvert_exporter": "python",
   "pygments_lexer": "ipython3",
   "version": "3.12.5"
  }
 },
 "nbformat": 4,
 "nbformat_minor": 5
}
