{
 "cells": [
  {
   "cell_type": "markdown",
   "id": "44ea1bad",
   "metadata": {},
   "source": [
    "Easy level "
   ]
  },
  {
   "cell_type": "markdown",
   "id": "c2238c0e",
   "metadata": {},
   "source": [
    "Test case 1"
   ]
  },
  {
   "cell_type": "code",
   "execution_count": null,
   "id": "dabaa319",
   "metadata": {},
   "outputs": [
    {
     "name": "stdout",
     "output_type": "stream",
     "text": [
      "The number is even\n",
      "The number is odd\n"
     ]
    }
   ],
   "source": [
    "def check(x):\n",
    "    if x % 2 == 0:\n",
    "        return \"The number is Even\"\n",
    "    else:\n",
    "        return \"The number is Odd\"\n",
    "\n",
    "print(check(4))\n",
    "print(check(7))"
   ]
  },
  {
   "cell_type": "markdown",
   "id": "9ceadf0f",
   "metadata": {},
   "source": [
    "Test case 2"
   ]
  },
  {
   "cell_type": "code",
   "execution_count": null,
   "id": "ceeb4a8e",
   "metadata": {},
   "outputs": [
    {
     "name": "stdout",
     "output_type": "stream",
     "text": [
      "The number is Positive\n",
      "The number is Negative\n",
      " The number is Zero\n"
     ]
    }
   ],
   "source": [
    "def check(x):\n",
    "    if x > 0:\n",
    "        return \"The number is Positive\"\n",
    "    elif x < 0:\n",
    "        return \"The number is Negative\"\n",
    "    else:\n",
    "        return \"The number is Zero\"\n",
    "    \n",
    "print(check(10))\n",
    "print(check(-5))\n",
    "print(check(0))"
   ]
  },
  {
   "cell_type": "markdown",
   "id": "aab83edd",
   "metadata": {},
   "source": [
    "Medium level"
   ]
  },
  {
   "cell_type": "markdown",
   "id": "44c31d17",
   "metadata": {},
   "source": [
    "Test case 3"
   ]
  },
  {
   "cell_type": "code",
   "execution_count": 5,
   "id": "ae632efd",
   "metadata": {},
   "outputs": [
    {
     "name": "stdout",
     "output_type": "stream",
     "text": [
      "True\n",
      "False\n"
     ]
    }
   ],
   "source": [
    "def anagram(str1, str2):\n",
    "    return sorted(str1) == sorted(str2)\n",
    "\n",
    "print(anagram(\"listen\", \"silent\"))\n",
    "print(anagram(\"hello\", \"world\"))"
   ]
  },
  {
   "cell_type": "markdown",
   "id": "dbaf536a",
   "metadata": {},
   "source": [
    "Test case 4"
   ]
  },
  {
   "cell_type": "code",
   "execution_count": 7,
   "id": "2b7bd0bf",
   "metadata": {},
   "outputs": [
    {
     "name": "stdout",
     "output_type": "stream",
     "text": [
      "120\n",
      "1\n"
     ]
    }
   ],
   "source": [
    "def factorial(x):\n",
    "    return 1 if x == 0 else x * factorial(x - 1)\n",
    "\n",
    "print(factorial(5))\n",
    "print(factorial(0))"
   ]
  },
  {
   "cell_type": "markdown",
   "id": "01713dd0",
   "metadata": {},
   "source": [
    "Hard level"
   ]
  },
  {
   "cell_type": "markdown",
   "id": "1c0a62bd",
   "metadata": {},
   "source": [
    "Test case 5"
   ]
  },
  {
   "cell_type": "code",
   "execution_count": 8,
   "id": "a27e617c",
   "metadata": {},
   "outputs": [
    {
     "name": "stdout",
     "output_type": "stream",
     "text": [
      "True\n",
      "False\n",
      "True\n"
     ]
    }
   ],
   "source": [
    "def palindrome(x):\n",
    "    return x == x [ ::-1]\n",
    "\n",
    "print(palindrome(\"racecar\"))\n",
    "print(palindrome(\"python\"))\n",
    "print(palindrome(\"habibah\"))"
   ]
  },
  {
   "cell_type": "markdown",
   "id": "9367925b",
   "metadata": {},
   "source": [
    "Test case 6"
   ]
  },
  {
   "cell_type": "code",
   "execution_count": 20,
   "id": "54d4c644",
   "metadata": {},
   "outputs": [
    {
     "name": "stdout",
     "output_type": "stream",
     "text": [
      "True\n",
      "True\n",
      "False\n"
     ]
    }
   ],
   "source": [
    "def armstrong (x):\n",
    "    original = x\n",
    "    sum = 0\n",
    "    num_digits = len(str(x))\n",
    "    \n",
    "    while x > 0:\n",
    "        num = x % 10\n",
    "        sum += num ** num_digits\n",
    "        x //= 10\n",
    "    return sum == original\n",
    "        \n",
    "print(armstrong(153)) \n",
    "print(armstrong(370))\n",
    "print(armstrong(123))"
   ]
  },
  {
   "cell_type": "markdown",
   "id": "98eba4ab",
   "metadata": {},
   "source": [
    "Expert level"
   ]
  },
  {
   "cell_type": "markdown",
   "id": "a2abe402",
   "metadata": {},
   "source": [
    "Test case 7"
   ]
  },
  {
   "cell_type": "code",
   "execution_count": null,
   "id": "b3c02b30",
   "metadata": {},
   "outputs": [
    {
     "name": "stdout",
     "output_type": "stream",
     "text": [
      "('Deposited: 1000', '.New Balance: 1000')\n",
      "('Withdrew: 500', '.New Balance: 0')\n",
      "('Withdrew: 600', 'Insufficient funds')\n"
     ]
    }
   ],
   "source": [
    "class bankAccount:\n",
    "    def account(self, name):\n",
    "        self.name = name\n",
    "        \n",
    "    def deposit(self, amount):\n",
    "        return \"Deposited: \"+ str(amount), \".New Balance: \" + str(amount)\n",
    "    \n",
    "    def withdraw(self, amount):\n",
    "        return \"Withdrew: \" + str(amount), \".New Balance: \" + str(0) if amount <= 500 else \"Insufficient funds\"\n",
    "    \n",
    "account = bankAccount()\n",
    "print(account.deposit(1000))\n",
    "print(account.withdraw(500))\n",
    "print(account.withdraw(600))"
   ]
  },
  {
   "cell_type": "markdown",
   "id": "4ddacd98",
   "metadata": {},
   "source": [
    "Test case 8"
   ]
  },
  {
   "cell_type": "code",
   "execution_count": 27,
   "id": "9c8c3089",
   "metadata": {},
   "outputs": [
    {
     "name": "stdout",
     "output_type": "stream",
     "text": [
      "Added grade: 90\n",
      "Added grade: 80\n",
      "Added grade: 70\n",
      "Average grade: 80.0\n"
     ]
    }
   ],
   "source": [
    "class student:\n",
    "    def student(self, name):\n",
    "        self.name = name\n",
    "        \n",
    "    def add_grade(self, grade):\n",
    "        self.grade = grade\n",
    "        return \"Added grade: \" + str(grade)\n",
    "    \n",
    "    def get_average(self, grades):\n",
    "        average = sum(grades) / len(grades)\n",
    "        self.grade = average\n",
    "        return \"Average grade: \" + str(self.grade)\n",
    "    \n",
    "student = student()\n",
    "print(student.add_grade(90))\n",
    "print(student.add_grade(80))\n",
    "print(student.add_grade(70))\n",
    "print(student.get_average([90, 80, 70]))"
   ]
  }
 ],
 "metadata": {
  "kernelspec": {
   "display_name": "Python 3",
   "language": "python",
   "name": "python3"
  },
  "language_info": {
   "codemirror_mode": {
    "name": "ipython",
    "version": 3
   },
   "file_extension": ".py",
   "mimetype": "text/x-python",
   "name": "python",
   "nbconvert_exporter": "python",
   "pygments_lexer": "ipython3",
   "version": "3.12.5"
  }
 },
 "nbformat": 4,
 "nbformat_minor": 5
}
